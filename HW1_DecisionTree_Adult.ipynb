{
 "cells": [
  {
   "cell_type": "code",
   "execution_count": 16,
   "metadata": {},
   "outputs": [
    {
     "name": "stdout",
     "output_type": "stream",
     "text": [
      "Requirement already satisfied: graphviz in c:\\users\\cheng gang wong\\anaconda3\\lib\\site-packages (0.20.1)\n",
      "Note: you may need to restart the kernel to use updated packages.\n"
     ]
    }
   ],
   "source": [
    "pip install graphviz"
   ]
  },
  {
   "cell_type": "code",
   "execution_count": 17,
   "metadata": {},
   "outputs": [
    {
     "name": "stdout",
     "output_type": "stream",
     "text": [
      "^C\n",
      "Note: you may need to restart the kernel to use updated packages.\n"
     ]
    }
   ],
   "source": [
    "pip install 6"
   ]
  },
  {
   "cell_type": "code",
   "execution_count": null,
   "metadata": {},
   "outputs": [
    {
     "name": "stdout",
     "output_type": "stream",
     "text": [
      "Requirement already satisfied: six in c:\\users\\cheng gang wong\\anaconda3\\lib\\site-packages (1.16.0)\n",
      "Note: you may need to restart the kernel to use updated packages.\n"
     ]
    }
   ],
   "source": [
    "pip install six"
   ]
  },
  {
   "cell_type": "code",
   "execution_count": null,
   "metadata": {},
   "outputs": [
    {
     "name": "stdout",
     "output_type": "stream",
     "text": [
      "Collecting pydotplus\n",
      "  Downloading pydotplus-2.0.2.tar.gz (278 kB)\n",
      "Requirement already satisfied: pyparsing>=2.0.1 in c:\\users\\cheng gang wong\\anaconda3\\lib\\site-packages (from pydotplus) (3.0.4)\n",
      "Building wheels for collected packages: pydotplus\n",
      "  Building wheel for pydotplus (setup.py): started\n",
      "  Building wheel for pydotplus (setup.py): finished with status 'done'\n",
      "  Created wheel for pydotplus: filename=pydotplus-2.0.2-py3-none-any.whl size=24575 sha256=8ac014f93f19d43be124f1bb9c9edb585e7beead67192440cf7a78f17539ecfa\n",
      "  Stored in directory: c:\\users\\cheng gang wong\\appdata\\local\\pip\\cache\\wheels\\89\\e5\\de\\6966007cf223872eedfbebbe0e074534e72e9128c8fd4b55eb\n",
      "Successfully built pydotplus\n",
      "Installing collected packages: pydotplus\n",
      "Successfully installed pydotplus-2.0.2\n",
      "Note: you may need to restart the kernel to use updated packages.\n"
     ]
    }
   ],
   "source": [
    "pip install pydotplus"
   ]
  },
  {
   "cell_type": "code",
   "execution_count": null,
   "metadata": {},
   "outputs": [
    {
     "name": "stdout",
     "output_type": "stream",
     "text": [
      "Requirement already satisfied: pandas in c:\\users\\cheng gang wong\\anaconda3\\lib\\site-packages (1.4.2)\n",
      "Requirement already satisfied: numpy>=1.18.5 in c:\\users\\cheng gang wong\\anaconda3\\lib\\site-packages (from pandas) (1.21.5)\n",
      "Requirement already satisfied: python-dateutil>=2.8.1 in c:\\users\\cheng gang wong\\anaconda3\\lib\\site-packages (from pandas) (2.8.2)\n",
      "Requirement already satisfied: pytz>=2020.1 in c:\\users\\cheng gang wong\\anaconda3\\lib\\site-packages (from pandas) (2021.3)\n",
      "Requirement already satisfied: six>=1.5 in c:\\users\\cheng gang wong\\anaconda3\\lib\\site-packages (from python-dateutil>=2.8.1->pandas) (1.16.0)\n",
      "Note: you may need to restart the kernel to use updated packages.\n"
     ]
    }
   ],
   "source": [
    "pip install pandas"
   ]
  },
  {
   "cell_type": "code",
   "execution_count": null,
   "metadata": {},
   "outputs": [],
   "source": [
    "from sklearn import tree\n",
    "from sklearn import preprocessing\n",
    "from sklearn import metrics\n",
    "from sklearn.preprocessing import MinMaxScaler\n",
    "from functools import partial\n",
    "from sklearn.model_selection import train_test_split\n",
    "from sklearn.model_selection import cross_val_score\n",
    "from sklearn.datasets import load_breast_cancer\n",
    "from sklearn.tree import DecisionTreeClassifier\n",
    "import numpy as np\n",
    "import matplotlib.pyplot as plt\n",
    "import sklearn\n",
    "from sklearn.preprocessing import LabelEncoder"
   ]
  },
  {
   "cell_type": "code",
   "execution_count": null,
   "metadata": {},
   "outputs": [],
   "source": [
    "import pandas as pd\n",
    "from sklearn.tree import DecisionTreeClassifier # Import Decision Tree Classifier\n",
    "from sklearn.model_selection import train_test_split # Import train_test_split function\n",
    "from sklearn import metrics #Import scikit-learn metrics module for accuracy calculation\n",
    "import csv"
   ]
  },
  {
   "cell_type": "code",
   "execution_count": 4,
   "metadata": {},
   "outputs": [],
   "source": [
    "from sklearn import tree\n",
    "from sklearn import preprocessing\n",
    "from sklearn import metrics\n",
    "from sklearn.preprocessing import MinMaxScaler\n",
    "from functools import partial\n",
    "from sklearn.model_selection import train_test_split\n",
    "from sklearn.model_selection import cross_val_score\n",
    "from sklearn.datasets import load_breast_cancer\n",
    "from sklearn.tree import DecisionTreeClassifier\n",
    "import numpy as np\n",
    "import matplotlib.pyplot as plt\n",
    "import sklearn\n",
    "from sklearn.preprocessing import LabelEncoder\n",
    "import pandas as pd\n",
    "from sklearn.tree import DecisionTreeClassifier # Import Decision Tree Classifier\n",
    "from sklearn.model_selection import train_test_split # Import train_test_split function\n",
    "from sklearn import metrics #Import scikit-learn metrics module for accuracy calculation\n",
    "import csv\n",
    "import math\n",
    "from sklearn.datasets import load_iris\n",
    "from sklearn import tree\n",
    "from sklearn.metrics import accuracy_score\n",
    "#特徵屬性判斷 & 決策樹深度判斷\n",
    "trainPath=r\"Adult_Trainoldd.csv\"\n",
    "train=[]#原始train資料\n",
    "import csv\n",
    "with open(trainPath, \"r\", newline=\"\") as csvTrain:\n",
    "  reader = csv.reader(csvTrain)\n",
    "  for t in reader:\n",
    "     train.append(t)\n",
    "     \n",
    "     \n",
    "testPath=r\"Adult_Test.csv\"\n",
    "test=[]#原始test資料\n",
    "import csv\n",
    "with open(testPath, \"r\", newline=\"\") as csvTest:\n",
    "  reader = csv.reader(csvTest)\n",
    "  for t in reader:\n",
    "     test.append(t)\n",
    "\n",
    "featureName=[]#特徵欄位名稱\n",
    "for f in range(0,len(train[0])):\n",
    "    featureName.append(train[0][f])\n",
    "    \n",
    "trainFeature=[]#train特徵\n",
    "trainClass=[]#train類別\n",
    "for i in range(1,len(train)):\n",
    "    trainClass.append(train[i][len(train[i])-1])\n",
    "    rowData=[]\n",
    "    for r in range(0,len(train[i])-1):\n",
    "        rowData.append(train[i][r])\n",
    "    trainFeature.append(rowData)\n",
    "import math\n",
    "testFeature=[]#test特徵\n",
    "testClass=[]#test類別\n",
    "for i in range(1,len(test)):\n",
    "    testClass.append(test[i][len(test[i])-1])\n",
    "    rowData=[]\n",
    "    for r in range(0,len(test[i])-1):\n",
    "        rowData.append(test[i][r])\n",
    "    testFeature.append(rowData)\n",
    "\n",
    "#Gini Split計算\n",
    "featureGini=[]\n",
    "for c in range(0,len(trainFeature[0])):\n",
    "    gini=[]\n",
    "    for r in range(0,len(trainFeature)):\n",
    "        is0=0\n",
    "        is1=0\n",
    "        if (trainClass[r]==\"0\"):\n",
    "            is0=1\n",
    "        if (trainClass[r]==\"1\"):\n",
    "            is1=1\n",
    "        isHave=False\n",
    "        for g in range(0,len(gini)):\n",
    "            if(gini[g][1]==trainFeature[r][c]):\n",
    "                gini[g][2]+=is0\n",
    "                gini[g][3]+=is1\n",
    "                isHave=True\n",
    "                break\n",
    "        if(isHave==False):\n",
    "            gini.append([c,trainFeature[r][c],is0,is1])\n",
    "    totalCount=0\n",
    "    columnGini=[]\n",
    "    for g in range(0,len(gini)):\n",
    "        total=gini[g][2]+gini[g][3]\n",
    "        totalCount+=total\n",
    "        giniNum=1-(math.pow(gini[g][2]/total,2))-(math.pow(gini[g][3]/total,2))\n",
    "        columnGini.append([giniNum,total])\n",
    "    giniSplit=0\n",
    "    for g in range(0,len(columnGini)):\n",
    "        giniSplit+=columnGini[g][0]*columnGini[g][1]/totalCount\n",
    "    featureGini.append([c,giniSplit])\n",
    "\n",
    "sort=[]\n",
    "for f in range(0,len(featureGini)):\n",
    "    sort.append(featureGini[f][1])\n",
    "sort.sort()\n",
    "\n",
    "orderFeature=[]\n",
    "for s in range(0,len(sort)):\n",
    "    for g in range(0,len(featureGini)):\n",
    "        if(sort[s]==featureGini[g][1]):\n",
    "            orderFeature.append(featureGini[g][0])\n",
    "            break\n",
    "\n",
    "from sklearn.datasets import load_iris\n",
    "from sklearn import tree\n",
    "from sklearn.metrics import accuracy_score\n",
    "isAcc=False\n",
    "fn=[]  \n",
    "#最佳特徵屬性\n",
    "for o in range(3,len(orderFeature)):\n",
    "    \n",
    "    #欄位排序過的train\n",
    "    orderTrain=[]\n",
    "    for t in range(0,len(trainFeature)):\n",
    "        data=[]\n",
    "        for o2 in range(0,o):\n",
    "            data.append(trainFeature[t][orderFeature[o2]])\n",
    "        orderTrain.append(data)\n",
    "    \n",
    "    #欄位排序過的test\n",
    "    orderTest=[]\n",
    "    for t in range(0,len(testFeature)):\n",
    "        data=[]\n",
    "        for o2 in range(0,o):\n",
    "            data.append(testFeature[t][orderFeature[o2]])\n",
    "        orderTest.append(data)\n",
    "        \n",
    "    fn=[]    \n",
    "    for t in range(0,o):\n",
    "        fn.append(featureName[orderFeature[t]])\n",
    "        \n",
    "    isCheck=False\n",
    "    #決策樹深度\n",
    "    for d in range(3,21):\n",
    "        iris = load_iris()\n",
    "        clf = tree.DecisionTreeClassifier(criterion=\"gini\",max_depth=d)\n",
    "        clf = clf.fit(orderTrain, trainClass)\n",
    "        \n",
    "        trainPredred=clf.predict(orderTrain)\n",
    "        acc=accuracy_score(trainClass, trainPredred)\n",
    "        \n",
    "        testPredred=clf.predict(orderTest)\n",
    "        accTest=accuracy_score(testClass, testPredred)\n",
    "        if( acc>=0.85 and accTest>=0.8):\n",
    "            print(\"特徵屬性:\"+str(fn)+\",特徵屬性數:\"+str(o)+\",訓練集準確率:\"+str(acc)+\",測試集準確率:\"+str(accTest)+\" ,max_depth=\"+str(d))\n",
    "            isCheck=True\n",
    "            break\n",
    "    if(isCheck==True):\n",
    "        break\n",
    "from six import StringIO  \n",
    "from IPython.display import Image  \n",
    "from sklearn.tree import export_graphviz\n",
    "import pydotplus\n",
    "dot_data = StringIO()\n",
    "export_graphviz(clf, out_file=dot_data,  \n",
    "                filled=True, rounded=True,\n",
    "                special_characters=True, feature_names =  fn,class_names=['0','1'])\n",
    "graph = pydotplus.graph_from_dot_data(dot_data.getvalue())  \n",
    "#graph.write_png('diabetes.png')\n",
    "Image(graph.create_png())\n"
   ]
  }
 ],
 "metadata": {
  "kernelspec": {
   "display_name": "Python 3.9.12 ('base')",
   "language": "python",
   "name": "python3"
  },
  "language_info": {
   "codemirror_mode": {
    "name": "ipython",
    "version": 3
   },
   "file_extension": ".py",
   "mimetype": "text/x-python",
   "name": "python",
   "nbconvert_exporter": "python",
   "pygments_lexer": "ipython3",
   "version": "3.9.12"
  },
  "orig_nbformat": 4,
  "vscode": {
   "interpreter": {
    "hash": "d3987765b860133c503dfa0ab83f770e72ff6614488f1eab67ea588387fa26bd"
   }
  }
 },
 "nbformat": 4,
 "nbformat_minor": 2
}
